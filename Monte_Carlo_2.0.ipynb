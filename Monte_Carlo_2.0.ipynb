{
 "cells": [
  {
   "cell_type": "code",
   "execution_count": 1,
   "metadata": {},
   "outputs": [],
   "source": [
    "import pandas as pd\n",
    "import random\n",
    "import sqlalchemy\n",
    "import scipy.stats as stats\n",
    "import data\n",
    "import importlib\n",
    "import numpy as np"
   ]
  },
  {
   "cell_type": "code",
   "execution_count": 2,
   "metadata": {},
   "outputs": [
    {
     "data": {
      "text/plain": [
       "<module 'data' from 'C:\\\\Users\\\\amans\\\\Python\\\\monte-carlo-simulator\\\\data.py'>"
      ]
     },
     "execution_count": 2,
     "metadata": {},
     "output_type": "execute_result"
    }
   ],
   "source": [
    "importlib.reload(data)"
   ]
  },
  {
   "cell_type": "code",
   "execution_count": 3,
   "metadata": {},
   "outputs": [],
   "source": [
    "engine = sqlalchemy.create_engine('sqlite:///wabonmerged.sqlite3')\n",
    "measures = pd.read_sql('SELECT * FROM Measures;', engine)\n",
    "matches = pd.read_sql('SELECT * FROM Matches;', engine)"
   ]
  },
  {
   "cell_type": "code",
   "execution_count": 4,
   "metadata": {},
   "outputs": [],
   "source": [
    "last_match_for_averages = 'qm30'\n",
    "matches_for_averages = data.filter_matches(matches, last_match=last_match_for_averages)\n",
    "measures_for_averages = data.filter_measures(measures, last_match=last_match_for_averages)\n",
    "matches_to_simulate = data.filter_matches(matches, first_match = 'qm31')"
   ]
  },
  {
   "cell_type": "code",
   "execution_count": 5,
   "metadata": {},
   "outputs": [],
   "source": [
    "counts = data.get_counts(measures_for_averages)\n",
    "taxi = data.get_taxi_sums(measures_for_averages)\n",
    "hangar_totals = data.get_hangar_totals(measures_for_averages)\n",
    "\n",
    "matches_to_simulate_data = data.get_matches(data.get_averages(taxi, counts, hangar_totals, matches_for_averages), matches_to_simulate)\n",
    "#move hangar end level 0 column to the end for multinomial distribution purposes (see numpy documentation)\n",
    "matches_to_simulate_data = matches_to_simulate_data.iloc[:, [i for i in range(9)]+[i for i in range(10,14)]+[9]]"
   ]
  },
  {
   "cell_type": "code",
   "execution_count": 25,
   "metadata": {},
   "outputs": [],
   "source": [
    "scores=matches_to_simulate_data.copy() #0.0633995532989502 seconds per thousand iterations\n",
    "scores.taxi = scores.taxi.apply(data.taxi)#1 second per thousand iterations # 1.19270038605 per thousand iterations\n",
    "for column in ['auto_upper', 'auto_lower', 'tele_upper', 'tele_lower', 'endgame_penalty_count']: #2.14568018913 per thousand iterations\n",
    "    scores[column]=stats.poisson.rvs(mu=scores[column])\n",
    "for num in range(len(scores)):\n",
    "    scores.iloc[num, -5:] = np.random.multinomial(1, scores.iloc[num, -5:])"
   ]
  },
  {
   "cell_type": "code",
   "execution_count": 26,
   "metadata": {},
   "outputs": [],
   "source": [
    "cargo = (scores.loc[:, ['match','alliance','auto_upper', 'auto_lower', 'tele_upper', 'tele_lower']]\n",
    "               .groupby(by=['match', 'alliance'])\n",
    "               .sum()\n",
    "               .assign(auto=lambda df: df.auto_lower+df.auto_upper,\n",
    "                       tele = lambda df: df.tele_upper + df.tele_lower)\n",
    "               .drop(['auto_lower', 'auto_upper', 'tele_upper', 'tele_lower'], axis = 1)\n",
    "               .assign(total = lambda df: df.auto+df.tele)\n",
    "               .assign(cargo_rp=lambda df: (df.total>=20)|((df.auto>=5)&(df.total>=18))))"
   ]
  },
  {
   "cell_type": "code",
   "execution_count": 28,
   "metadata": {},
   "outputs": [],
   "source": [
    "scores_matrix = scores.iloc[:, 3:].to_numpy()\n",
    "values_matrix = np.matrix('2; 4; -4; 1; 2; 5; 4; 6; 10; 15; 0')\n",
    "points_matrix = np.dot(scores_matrix, values_matrix)\n",
    "\n",
    "hangar_scores_matrix = scores.iloc[:, -5:].to_numpy()\n",
    "hangar_values_matrix = np.matrix('4; 6; 10; 15; 0')\n",
    "hangar_points_matrix = np.dot(hangar_scores_matrix, hangar_values_matrix)\n",
    "\n",
    "scores = scores.assign(points = points_matrix, hangar_points = hangar_points_matrix)"
   ]
  },
  {
   "cell_type": "code",
   "execution_count": 38,
   "metadata": {},
   "outputs": [],
   "source": [
    "rps = (scores.groupby(by=['match', 'alliance']).sum()\n",
    "            .iloc[:, -2:]\n",
    "            .assign(hangar_rp = lambda df: df.hangar_points>=16)\n",
    "            .join(cargo))"
   ]
  },
  {
   "cell_type": "code",
   "execution_count": 45,
   "metadata": {},
   "outputs": [
    {
     "data": {
      "text/html": [
       "<div>\n",
       "<style scoped>\n",
       "    .dataframe tbody tr th:only-of-type {\n",
       "        vertical-align: middle;\n",
       "    }\n",
       "\n",
       "    .dataframe tbody tr th {\n",
       "        vertical-align: top;\n",
       "    }\n",
       "\n",
       "    .dataframe thead th {\n",
       "        text-align: right;\n",
       "    }\n",
       "</style>\n",
       "<table border=\"1\" class=\"dataframe\">\n",
       "  <thead>\n",
       "    <tr style=\"text-align: right;\">\n",
       "      <th></th>\n",
       "      <th></th>\n",
       "      <th>points</th>\n",
       "      <th>hangar_points</th>\n",
       "      <th>hangar_rp</th>\n",
       "      <th>auto</th>\n",
       "      <th>tele</th>\n",
       "      <th>total</th>\n",
       "      <th>cargo_rp</th>\n",
       "    </tr>\n",
       "    <tr>\n",
       "      <th>match</th>\n",
       "      <th>alliance</th>\n",
       "      <th></th>\n",
       "      <th></th>\n",
       "      <th></th>\n",
       "      <th></th>\n",
       "      <th></th>\n",
       "      <th></th>\n",
       "      <th></th>\n",
       "    </tr>\n",
       "  </thead>\n",
       "  <tbody>\n",
       "    <tr>\n",
       "      <th rowspan=\"2\" valign=\"top\">qm31</th>\n",
       "      <th>blue</th>\n",
       "      <td>76.0</td>\n",
       "      <td>25.0</td>\n",
       "      <td>True</td>\n",
       "      <td>6</td>\n",
       "      <td>14</td>\n",
       "      <td>20</td>\n",
       "      <td>True</td>\n",
       "    </tr>\n",
       "    <tr>\n",
       "      <th>red</th>\n",
       "      <td>53.0</td>\n",
       "      <td>15.0</td>\n",
       "      <td>False</td>\n",
       "      <td>3</td>\n",
       "      <td>9</td>\n",
       "      <td>12</td>\n",
       "      <td>False</td>\n",
       "    </tr>\n",
       "    <tr>\n",
       "      <th rowspan=\"2\" valign=\"top\">qm32</th>\n",
       "      <th>blue</th>\n",
       "      <td>52.0</td>\n",
       "      <td>0.0</td>\n",
       "      <td>False</td>\n",
       "      <td>2</td>\n",
       "      <td>19</td>\n",
       "      <td>21</td>\n",
       "      <td>True</td>\n",
       "    </tr>\n",
       "    <tr>\n",
       "      <th>red</th>\n",
       "      <td>53.0</td>\n",
       "      <td>6.0</td>\n",
       "      <td>False</td>\n",
       "      <td>6</td>\n",
       "      <td>12</td>\n",
       "      <td>18</td>\n",
       "      <td>True</td>\n",
       "    </tr>\n",
       "    <tr>\n",
       "      <th>qm33</th>\n",
       "      <th>blue</th>\n",
       "      <td>41.0</td>\n",
       "      <td>6.0</td>\n",
       "      <td>False</td>\n",
       "      <td>3</td>\n",
       "      <td>8</td>\n",
       "      <td>11</td>\n",
       "      <td>False</td>\n",
       "    </tr>\n",
       "    <tr>\n",
       "      <th>...</th>\n",
       "      <th>...</th>\n",
       "      <td>...</td>\n",
       "      <td>...</td>\n",
       "      <td>...</td>\n",
       "      <td>...</td>\n",
       "      <td>...</td>\n",
       "      <td>...</td>\n",
       "      <td>...</td>\n",
       "    </tr>\n",
       "    <tr>\n",
       "      <th>qm60</th>\n",
       "      <th>red</th>\n",
       "      <td>107.0</td>\n",
       "      <td>25.0</td>\n",
       "      <td>True</td>\n",
       "      <td>3</td>\n",
       "      <td>30</td>\n",
       "      <td>33</td>\n",
       "      <td>True</td>\n",
       "    </tr>\n",
       "    <tr>\n",
       "      <th rowspan=\"2\" valign=\"top\">qm61</th>\n",
       "      <th>blue</th>\n",
       "      <td>63.0</td>\n",
       "      <td>21.0</td>\n",
       "      <td>True</td>\n",
       "      <td>5</td>\n",
       "      <td>8</td>\n",
       "      <td>13</td>\n",
       "      <td>False</td>\n",
       "    </tr>\n",
       "    <tr>\n",
       "      <th>red</th>\n",
       "      <td>25.0</td>\n",
       "      <td>4.0</td>\n",
       "      <td>False</td>\n",
       "      <td>2</td>\n",
       "      <td>5</td>\n",
       "      <td>7</td>\n",
       "      <td>False</td>\n",
       "    </tr>\n",
       "    <tr>\n",
       "      <th rowspan=\"2\" valign=\"top\">qm62</th>\n",
       "      <th>blue</th>\n",
       "      <td>11.0</td>\n",
       "      <td>6.0</td>\n",
       "      <td>False</td>\n",
       "      <td>0</td>\n",
       "      <td>0</td>\n",
       "      <td>0</td>\n",
       "      <td>False</td>\n",
       "    </tr>\n",
       "    <tr>\n",
       "      <th>red</th>\n",
       "      <td>16.0</td>\n",
       "      <td>4.0</td>\n",
       "      <td>False</td>\n",
       "      <td>0</td>\n",
       "      <td>2</td>\n",
       "      <td>2</td>\n",
       "      <td>False</td>\n",
       "    </tr>\n",
       "  </tbody>\n",
       "</table>\n",
       "<p>64 rows × 7 columns</p>\n",
       "</div>"
      ],
      "text/plain": [
       "                points  hangar_points  hangar_rp  auto  tele  total  cargo_rp\n",
       "match alliance                                                               \n",
       "qm31  blue        76.0           25.0       True     6    14     20      True\n",
       "      red         53.0           15.0      False     3     9     12     False\n",
       "qm32  blue        52.0            0.0      False     2    19     21      True\n",
       "      red         53.0            6.0      False     6    12     18      True\n",
       "qm33  blue        41.0            6.0      False     3     8     11     False\n",
       "...                ...            ...        ...   ...   ...    ...       ...\n",
       "qm60  red        107.0           25.0       True     3    30     33      True\n",
       "qm61  blue        63.0           21.0       True     5     8     13     False\n",
       "      red         25.0            4.0      False     2     5      7     False\n",
       "qm62  blue        11.0            6.0      False     0     0      0     False\n",
       "      red         16.0            4.0      False     0     2      2     False\n",
       "\n",
       "[64 rows x 7 columns]"
      ]
     },
     "execution_count": 45,
     "metadata": {},
     "output_type": "execute_result"
    }
   ],
   "source": [
    "rps"
   ]
  },
  {
   "cell_type": "code",
   "execution_count": 69,
   "metadata": {},
   "outputs": [],
   "source": [
    "blue = (scores.groupby(by=['alliance','match'])\n",
    "        .sum().loc['blue']\n",
    "        .assign(win = scores.groupby(by=['alliance','match'])\n",
    "                            .sum()\n",
    "                            .loc['blue'].points>\n",
    "                      scores.groupby(by=['alliance','match'])\n",
    "                            .sum()\n",
    "                            .loc['red'].points)\n",
    "        .assign(alliance='blue')\n",
    "        .reset_index()\n",
    "        .set_index(['match', 'alliance'], drop=True))"
   ]
  },
  {
   "cell_type": "code",
   "execution_count": 73,
   "metadata": {},
   "outputs": [
    {
     "data": {
      "text/plain": [
       "match  alliance\n",
       "qm31   blue        2\n",
       "qm32   blue        0\n",
       "qm33   blue        0\n",
       "qm34   blue        0\n",
       "qm35   blue        0\n",
       "qm36   blue        2\n",
       "qm37   blue        0\n",
       "qm38   blue        0\n",
       "qm39   blue        0\n",
       "qm40   blue        2\n",
       "qm41   blue        2\n",
       "qm42   blue        0\n",
       "qm43   blue        0\n",
       "qm44   blue        0\n",
       "qm45   blue        2\n",
       "qm46   blue        2\n",
       "qm47   blue        2\n",
       "qm48   blue        2\n",
       "qm49   blue        0\n",
       "qm50   blue        2\n",
       "qm51   blue        0\n",
       "qm52   blue        2\n",
       "qm53   blue        2\n",
       "qm54   blue        0\n",
       "qm55   blue        2\n",
       "qm56   blue        2\n",
       "qm57   blue        0\n",
       "qm58   blue        2\n",
       "qm59   blue        2\n",
       "qm60   blue        0\n",
       "qm61   blue        2\n",
       "qm62   blue        0\n",
       "Name: win, dtype: int32"
      ]
     },
     "execution_count": 73,
     "metadata": {},
     "output_type": "execute_result"
    }
   ],
   "source": [
    "blue.loc[:, 'win'] * 2"
   ]
  },
  {
   "cell_type": "code",
   "execution_count": null,
   "metadata": {},
   "outputs": [],
   "source": []
  }
 ],
 "metadata": {
  "kernelspec": {
   "display_name": "Python 3",
   "language": "python",
   "name": "python3"
  },
  "language_info": {
   "codemirror_mode": {
    "name": "ipython",
    "version": 3
   },
   "file_extension": ".py",
   "mimetype": "text/x-python",
   "name": "python",
   "nbconvert_exporter": "python",
   "pygments_lexer": "ipython3",
   "version": "3.8.5"
  }
 },
 "nbformat": 4,
 "nbformat_minor": 5
}
