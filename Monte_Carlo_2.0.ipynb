{
 "cells": [
  {
   "cell_type": "code",
   "execution_count": 1,
   "id": "3bd656ff",
   "metadata": {},
   "outputs": [],
   "source": [
    "import pandas as pd\n",
    "import random\n",
    "import sqlalchemy\n",
    "import scipy.stats as stats\n",
    "import data\n",
    "import importlib\n",
    "import numpy as np\n",
    "import time"
   ]
  },
  {
   "cell_type": "code",
   "execution_count": 2,
   "id": "d4430261",
   "metadata": {},
   "outputs": [
    {
     "data": {
      "text/plain": [
       "<module 'data' from 'C:\\\\Users\\\\shaur\\\\Python\\\\Scouting\\\\monte-carlo-simulator\\\\data.py'>"
      ]
     },
     "execution_count": 2,
     "metadata": {},
     "output_type": "execute_result"
    }
   ],
   "source": [
    "importlib.reload(data)"
   ]
  },
  {
   "cell_type": "code",
   "execution_count": 3,
   "id": "57f6e87e",
   "metadata": {},
   "outputs": [],
   "source": [
    "engine = sqlalchemy.create_engine('sqlite:///blockparty22.sqlite3')\n",
    "measures = pd.read_sql('SELECT * FROM Measures;', engine)\n",
    "matches = pd.read_sql('SELECT * FROM Matches;', engine)"
   ]
  },
  {
   "cell_type": "code",
   "execution_count": 4,
   "id": "82a40a9d",
   "metadata": {},
   "outputs": [],
   "source": [
    "last_match_for_averages = 'qm41'\n",
    "matches_for_averages = data.filter_matches(matches, last_match=last_match_for_averages)\n",
    "measures_for_averages = data.filter_measures(measures, last_match=last_match_for_averages)\n",
    "matches_to_simulate = data.filter_matches(matches, first_match = 'qm42')"
   ]
  },
  {
   "cell_type": "code",
   "execution_count": 5,
   "id": "d9ac7f67",
   "metadata": {},
   "outputs": [],
   "source": [
    "counts = data.get_counts(measures_for_averages)\n",
    "taxi = data.get_taxi_sums(measures_for_averages)\n",
    "hangar_totals = data.get_hangar_totals(measures_for_averages)\n",
    "\n",
    "matches_to_simulate_data = data.get_matches(data.get_averages(taxi, counts, hangar_totals, matches_for_averages), matches_to_simulate)\n",
    "#move hangar end level 0 column to the end for multinomial distribution purposes (see numpy documentation)\n",
    "matches_to_simulate_data = matches_to_simulate_data.iloc[:, [i for i in range(9)]+[i for i in range(10,14)]+[9]]"
   ]
  },
  {
   "cell_type": "code",
   "execution_count": 6,
   "id": "10a07c4a",
   "metadata": {},
   "outputs": [],
   "source": [
    "import tba\n",
    "rankings = tba.get_rankings('2022wamc')\n",
    "r = [{'team_number': team['team_key'], 'ranking_points': team['extra_stats'][0]} for team in rankings['rankings']]\n",
    "current_rps = pd.DataFrame(r).set_index('team_number').sort_values(by='team_number')"
   ]
  },
  {
   "cell_type": "code",
   "execution_count": 7,
   "id": "36143b8c",
   "metadata": {},
   "outputs": [],
   "source": [
    "final_rankings_dict={}\n",
    "teams = pd.read_sql('SELECT * FROM Teams;', engine)\n",
    "for team_num in teams.team_number:\n",
    "    final_rankings_dict[team_num] = 0\n",
    "final_rankings_dict['frc360'] = 0\n",
    "final_rankings_dict['frc9992'] = 0\n",
    "final_rankings_dict['frc9991'] = 0"
   ]
  },
  {
   "cell_type": "code",
   "execution_count": 8,
   "id": "c9d08632",
   "metadata": {},
   "outputs": [
    {
     "name": "stdout",
     "output_type": "stream",
     "text": [
      "0.5515854358673096\n"
     ]
    }
   ],
   "source": [
    "start = time.time()\n",
    "for i in range(20):\n",
    "    scores=matches_to_simulate_data.copy() #0.0633995532989502 seconds per thousand iterations\n",
    "    scores.taxi = scores.taxi.apply(data.taxi)#1 second per thousand iterations # 1.19270038605 per thousand iterations\n",
    "    for column in ['auto_upper', 'auto_lower', 'tele_upper', 'tele_lower', 'endgame_penalty_count']: #2.14568018913 per thousand iterations\n",
    "        scores[column]=stats.poisson.rvs(mu=scores[column])\n",
    "    for num in range(len(scores)):\n",
    "        scores.iloc[num, -5:] = np.random.multinomial(1, scores.iloc[num, -5:])\n",
    "    cargo = (scores.loc[:, ['match','alliance','auto_upper', 'auto_lower', 'tele_upper', 'tele_lower']]\n",
    "                   .groupby(by=['match', 'alliance'])\n",
    "                   .sum()\n",
    "                   .assign(auto=lambda df: df.auto_lower+df.auto_upper,\n",
    "                           tele = lambda df: df.tele_upper + df.tele_lower)\n",
    "                   .drop(['auto_lower', 'auto_upper', 'tele_upper', 'tele_lower'], axis = 1)\n",
    "                   .assign(total = lambda df: df.auto+df.tele)\n",
    "                   .assign(cargo_rp=lambda df: (df.total>=20)|((df.auto>=5)&(df.total>=18))))\n",
    "\n",
    "\n",
    "    scores_matrix = scores.iloc[:, 3:].to_numpy()\n",
    "    values_matrix = np.matrix('2; 4; -4; 1; 2; 2; 4; 6; 10; 15; 0')\n",
    "    points_matrix = np.dot(scores_matrix, values_matrix)\n",
    "\n",
    "    hangar_scores_matrix = scores.iloc[:, -5:].to_numpy()\n",
    "    hangar_values_matrix = np.matrix('4; 6; 10; 15; 0')\n",
    "    hangar_points_matrix = np.dot(hangar_scores_matrix, hangar_values_matrix)\n",
    "\n",
    "    scores = scores.assign(points = points_matrix, hangar_points = hangar_points_matrix)\n",
    "\n",
    "\n",
    "    rps = (scores.groupby(by=['match', 'alliance']).sum()\n",
    "                .iloc[:, -2:]\n",
    "                .assign(hangar_rp = lambda df: df.hangar_points>=16)\n",
    "                .join(cargo))\n",
    "\n",
    "    def winning_alliance(point_differential):\n",
    "        if point_differential>0:\n",
    "            return 'blue'\n",
    "        elif point_differential<0:\n",
    "            return 'red'\n",
    "        else:\n",
    "            return 'tie'\n",
    "\n",
    "    winner_series = (pd.DataFrame(scores.groupby(by=['alliance','match']).sum().loc[:, 'points'])\n",
    "                    .reset_index(level=0)\n",
    "                    .pivot(columns='alliance')\n",
    "                    .assign(winner = lambda df:df.points.blue-df.points.red)\n",
    "                    .winner.apply(winning_alliance))\n",
    "\n",
    "stop = time.time()\n",
    "print(stop-start)"
   ]
  },
  {
   "cell_type": "code",
   "execution_count": 9,
   "id": "3857dbb8",
   "metadata": {},
   "outputs": [],
   "source": [
    "for team in final_rankings_dict.keys():\n",
    "    final_rankings_dict[team] = round(final_rankings_dict[team]/100, 2)\n",
    "print(dict(sorted(final_rankings_dict.items(), key = lambda item: item[1])))"
   ]
  }
 ],
 "metadata": {
  "kernelspec": {
   "display_name": "Python 3 (ipykernel)",
   "language": "python",
   "name": "python3"
  },
  "language_info": {
   "codemirror_mode": {
    "name": "ipython",
    "version": 3
   },
   "file_extension": ".py",
   "mimetype": "text/x-python",
   "name": "python",
   "nbconvert_exporter": "python",
   "pygments_lexer": "ipython3",
   "version": "3.10.6"
  }
 },
 "nbformat": 4,
 "nbformat_minor": 5
}
